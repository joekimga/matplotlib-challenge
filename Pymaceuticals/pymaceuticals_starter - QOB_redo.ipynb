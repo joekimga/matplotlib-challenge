{
 "cells": [
  {
   "cell_type": "markdown",
   "metadata": {},
   "source": [
    "## Observations and Insights "
   ]
  },
  {
   "cell_type": "markdown",
   "metadata": {},
   "source": [
    "Markdown and LaTeX: 𝛼2"
   ]
  },
  {
   "cell_type": "code",
   "execution_count": null,
   "metadata": {},
   "outputs": [],
   "source": []
  },
  {
   "cell_type": "markdown",
   "metadata": {},
   "source": [
    "# Pymaceuticals\n",
    "\n",
    "    From the data gathered, we have discovered that there were duplicate data on a mouse after mergring the **mouse_metadata** data set to the **study_results**  dataset.  Mouse **g989**, the mouse with the duplicate data has been dropped from the dataset.  The original merged dataset had a mouse count of 249. After dropping the duplicate data, the mouse count changed to 248. \n",
    "    "
   ]
  },
  {
   "cell_type": "code",
   "execution_count": null,
   "metadata": {},
   "outputs": [],
   "source": [
    "# Dependencies and Setup\n",
    "import matplotlib.pyplot as plt\n",
    "import pandas as pd\n",
    "import scipy.stats as st\n",
    "from scipy.stats import linregress\n",
    "\n",
    "\n",
    "# Study data files\n",
    "mouse_metadata_path = \"data/Mouse_metadata.csv\" \n",
    "study_results_path = \"data/Study_results.csv\"\n",
    "\n",
    "# Read the mouse data and the study results\n",
    "mouse_metadata = pd.read_csv(mouse_metadata_path)\n",
    "study_results = pd.read_csv(study_results_path)\n",
    "\n",
    "# Combine the data into a single dataset\n",
    "merge_df = pd.merge(study_results, mouse_metadata, how=\"left\", on='Mouse ID')\n",
    "# Display the data table for preview\n",
    "merge_df.head()"
   ]
  },
  {
   "cell_type": "code",
   "execution_count": null,
   "metadata": {},
   "outputs": [],
   "source": [
    "# # Checking the number of mice.\n",
    "# mice_data = merge_df[\"Mouse ID\"].value_counts()\n",
    "# mice_data_df = pd.DataFrame(mice_data)\n",
    "# mice_data_df.head()\n",
    "len(merge_df[\"Mouse ID\"].unique())\n",
    "num_mice = len(merge_df[\"Mouse ID\"].unique())\n",
    "print(f\"Number of Mice: {num_mice}\")"
   ]
  },
  {
   "cell_type": "code",
   "execution_count": null,
   "metadata": {},
   "outputs": [],
   "source": [
    "# mice_df = len(mice_data)\n",
    "# mice_df\n",
    "# print(f\"Number of Mice: {mice_df}\")"
   ]
  },
  {
   "cell_type": "code",
   "execution_count": null,
   "metadata": {},
   "outputs": [],
   "source": [
    "# Getting the duplicate mice by ID number that shows up for Mouse ID and Timepoint. \n",
    "duplicate_mice = merge_df.loc[merge_df.duplicated(subset=[\"Mouse ID\", \"Timepoint\"]), \"Mouse ID\"].unique()\n",
    "duplicate_mice\n",
    "#####  .DUPLICATED()     IT'S RIGHT\n",
    "\n"
   ]
  },
  {
   "cell_type": "code",
   "execution_count": null,
   "metadata": {},
   "outputs": [],
   "source": [
    "# Optional: Get all the data for the duplicate mouse ID. \n",
    "duplicate_mice_id = merge_df.loc[merge_df[\"Mouse ID\"]==\"g989\"]\n",
    "duplicate_mice_id"
   ]
  },
  {
   "cell_type": "code",
   "execution_count": null,
   "metadata": {},
   "outputs": [],
   "source": [
    "# Create a clean DataFrame by dropping the duplicate mouse by its ID.\n",
    "# print all rows where mouse ID column is NOT in duplicate_mice\n",
    "clean_df = merge_df[merge_df[\"Mouse ID\"].isin(duplicate_mice)==False]\n",
    "clean_df.head()"
   ]
  },
  {
   "cell_type": "code",
   "execution_count": null,
   "metadata": {},
   "outputs": [],
   "source": [
    "# Checking the number of mice in the clean DataFrame.\n",
    "len(clean_df[\"Mouse ID\"].unique())\n",
    "num_mice_clean_data = len(clean_df[\"Mouse ID\"].unique())\n",
    "print(f\"Number of Mice from a Cleaned DataFrame: {num_mice_clean_data}\")"
   ]
  },
  {
   "cell_type": "markdown",
   "metadata": {},
   "source": [
    "## Summary Statistics"
   ]
  },
  {
   "cell_type": "code",
   "execution_count": null,
   "metadata": {},
   "outputs": [],
   "source": [
    "# Generate a summary statistics table of mean, median, variance, standard deviation, and SEM of the tumor volume for each regimen\n",
    "\n",
    "# Use groupby and summary statistical methods to calculate the following properties of each drug regimen: \n",
    "# mean, median, variance, standard deviation, and SEM of the tumor volume. \n",
    "# Assemble the resulting series into a single summary dataframe.\n",
    "average = clean_df.groupby(\"Drug Regimen\").mean()[\"Tumor Volume (mm3)\"]\n",
    "middle = clean_df.groupby(\"Drug Regimen\").median()[\"Tumor Volume (mm3)\"]\n",
    "variance = clean_df.groupby(\"Drug Regimen\").var()[\"Tumor Volume (mm3)\"]\n",
    "stan_dev = clean_df.groupby(\"Drug Regimen\").std()[\"Tumor Volume (mm3)\"]\n",
    "semi = clean_df.groupby(\"Drug Regimen\").sem()[\"Tumor Volume (mm3)\"]\n",
    "\n",
    "stat_table = pd.DataFrame({\n",
    "    \"Tumor Volume Mean\": average,\n",
    "    \"Tumor Volume Median\": middle,\n",
    "    \"Tumor Volume Variance\": variance,\n",
    "    \"Tumor Volume Standard Deviation\": stan_dev,\n",
    "    \"Tumor Volume Semi\": semi\n",
    "})\n",
    "\n",
    "stat_table"
   ]
  },
  {
   "cell_type": "code",
   "execution_count": null,
   "metadata": {},
   "outputs": [],
   "source": [
    "# Generate a summary statistics table of mean, median, variance, standard deviation, and SEM of the tumor volume for each regimen\n",
    "\n",
    "# Using the aggregation method, produce the same summary statistics in a single line\n",
    "#df.agg(['sum', 'min'])\n",
    "\n",
    "stat_table_new = clean_df.groupby(\"Drug Regimen\").agg({\"Tumor Volume (mm3)\":[\"mean\", \"median\", \"var\", \"std\", \"sem\"]})\n",
    "stat_table_new"
   ]
  },
  {
   "cell_type": "markdown",
   "metadata": {},
   "source": [
    "## Bar and Pie Charts"
   ]
  },
  {
   "cell_type": "code",
   "execution_count": null,
   "metadata": {},
   "outputs": [],
   "source": [
    "# Generate a bar plot showing the total number of measurements taken on each drug regimen using pandas.\n",
    "\n",
    "total_num = clean_df[\"Drug Regimen\"].value_counts()\n",
    "total_num.plot(kind=\"bar\")\n",
    "plt.title(\"Total Number of Measurements Taken on Each Drug\")\n",
    "plt.ylabel(\"Number of Unique Mice Tested\")\n",
    "plt.show()"
   ]
  },
  {
   "cell_type": "code",
   "execution_count": null,
   "metadata": {},
   "outputs": [],
   "source": [
    "# Generate a bar plot showing the total number of measurements taken on each drug regimen using pyplot.\n",
    "plt.bar(total_num.index.values, total_num.values)\n",
    "plt.title(\"Total Number of Measurements Taken on Each Drug\")\n",
    "plt.xticks(rotation=90)\n",
    "plt.ylabel(\"Number of Unique Mice Tested\")\n",
    "plt.show()"
   ]
  },
  {
   "cell_type": "code",
   "execution_count": null,
   "metadata": {},
   "outputs": [],
   "source": [
    "# Generate a pie plot showing the distribution of female versus male mice using pandas\n",
    "gender_range = clean_df[\"Sex\"].value_counts()\n",
    "#gender_range\n",
    "\n",
    "#total_num = clean_df[\"Drug Regimen\"].value_counts()\n",
    "gender_range.plot(kind=\"pie\", autopct=\"%1.1f%%\")\n",
    "plt.title(\"Male vs Female\")\n",
    "plt.ylabel(\"Sex\")\n",
    "plt.show()"
   ]
  },
  {
   "cell_type": "code",
   "execution_count": null,
   "metadata": {},
   "outputs": [],
   "source": [
    "# Generate a pie plot showing the distribution of female versus male mice using pyplot\n",
    "\n",
    "plt.pie(gender_range.values, labels=gender_range.index.values, autopct=\"%1.1f%%\")\n",
    "plt.title(\"Male vs Female\")\n",
    "#plt.xticks(rotation=90)\n",
    "plt.ylabel(\"Sex\")\n",
    "plt.show()"
   ]
  },
  {
   "cell_type": "markdown",
   "metadata": {},
   "source": [
    "## Quartiles, Outliers and Boxplots"
   ]
  },
  {
   "cell_type": "code",
   "execution_count": null,
   "metadata": {},
   "outputs": [],
   "source": [
    "# Calculate the final tumor volume of each mouse across four of the treatment regimens:  \n",
    "# Capomulin, Ramicane, Infubinol, and Ceftamin\n",
    "# Start by getting the last (greatest) timepoint for each mouse\n",
    "# Merge this group df with the original dataframe to get the tumor volume at the last timepoint\n",
    "\n",
    "timepoint_df = clean_df.sort_values(by='Timepoint', ascending=False)\n",
    "timepoint_df\n"
   ]
  },
  {
   "cell_type": "code",
   "execution_count": null,
   "metadata": {},
   "outputs": [],
   "source": [
    "timepoint_df = clean_df.drop_duplicates(subset=[\"Mouse ID\"])\n",
    "timepoint_df"
   ]
  },
  {
   "cell_type": "code",
   "execution_count": null,
   "metadata": {
    "scrolled": true
   },
   "outputs": [],
   "source": [
    "# max_tumor_df = clean_df.groupby([\"Mouse ID\"])['Timepoint'].max()\n",
    "# max_tumor_df = max_tumor.reset_index()\n",
    "# max_tumor_df\n",
    "timepoint_df = clean_df.groupby(\"Mouse ID\").max()[\"Timepoint\"]\n",
    "timepoint_df = timepoint_df.reset_index()\n",
    "timepoint_df"
   ]
  },
  {
   "cell_type": "code",
   "execution_count": null,
   "metadata": {},
   "outputs": [],
   "source": [
    "new_merged_data = timepoint_df.merge(clean_df,on=['Mouse ID','Timepoint'],how=\"left\")\n",
    "new_merged_data"
   ]
  },
  {
   "cell_type": "code",
   "execution_count": null,
   "metadata": {},
   "outputs": [],
   "source": [
    "# Put treatments into a list for for loop (and later for plot labels)\n",
    "four_drugs_list = [\"Capomulin\", \"Ramicane\", \"Infubinol\", \"Ceftamin\"]\n",
    "\n",
    "# Create empty list to fill with tumor vol data (for plotting)\n",
    "tumor_volume_list = []\n",
    "\n",
    "# Calculate the IQR and quantitatively determine if there are any potential outliers. \n",
    "for drug in four_drugs_list:\n",
    "\n",
    "    # Locate the rows which contain mice on each drug and get the tumor volumes\n",
    "    final_tumor_volume = new_merged_data.loc[new_merged_data[\"Drug Regimen\"] == drug, \"Tumor Volume (mm3)\"]\n",
    "\n",
    "    # add subset \n",
    "    tumor_volume_list.append(final_tumor_volume) \n",
    "\n",
    "    # Determine outliers using upper and lower bounds\n",
    "    quartiles = final_tumor_volume.quantile([.25,.5,.75])\n",
    "    lower_quartile = quartiles[0.25]\n",
    "    upper_quartile = quartiles[0.75]\n",
    "    iqr = upper_quartile - lower_quartile\n",
    "    \n",
    "    #print(f\"The lower quartile of tumor volume is: {lower_quartile}\")\n",
    "    #print(f\"The upper quartile of tumor volume is: {upper_quartile}\")\n",
    "    #print(f\"The interquartile range of tumor volume is: {iqr}\")\n",
    "    #print(f\"The the median of tumor volume is: {quartiles[0.5]} \")\n",
    "\n",
    "    lower_bound = lower_quartile - (1.5*iqr)\n",
    "    upper_bound = upper_quartile + (1.5*iqr)\n",
    "    outliers = final_tumor_volume.loc[(final_tumor_volume > upper_bound) | (final_tumor_volume < lower_bound)]\n",
    "    print(f\"______________________________________________________________\")\n",
    "    print(f\"Number of potential outliers for {drug} is: {outliers}.\")\n",
    "    print(f\" \")"
   ]
  },
  {
   "cell_type": "code",
   "execution_count": null,
   "metadata": {},
   "outputs": [],
   "source": [
    "# Generate a box plot of the final tumor volume of each mouse across four regimens of interest\n",
    "fig1, ax1 = plt.subplots()\n",
    "plt.boxplot(tumor_volume_list, labels=four_drugs_list)\n",
    "ax1.set_title(\"Final Tumor Volume\")\n",
    "ax1.set_ylabel(\"Tumor Volume\")\n",
    "plt.show()"
   ]
  },
  {
   "cell_type": "markdown",
   "metadata": {},
   "source": [
    "## Line and Scatter Plots"
   ]
  },
  {
   "cell_type": "code",
   "execution_count": null,
   "metadata": {},
   "outputs": [],
   "source": [
    "#capomulin_mouse.head()"
   ]
  },
  {
   "cell_type": "code",
   "execution_count": null,
   "metadata": {},
   "outputs": [],
   "source": [
    "# Generate a line plot of tumor volume vs. time point for a mouse treated with Capomulin\n",
    "capomulin_mouse = clean_df.loc[clean_df[\"Drug Regimen\"] == \"Capomulin\"]\n",
    "mouse = capomulin_mouse.loc[capomulin_mouse[\"Mouse ID\"] == \"b128\"]\n",
    " \n",
    "plt.title(\"Tumor Volume over time using Capomulin\")\n",
    "plt.xlabel(\"Time\")\n",
    "plt.ylabel(\"Tumor Volume (mm3)\")\n",
    "plt.ylim(20,60)\n",
    "plt.xlim(-2,50)\n",
    "plt.plot(mouse[\"Timepoint\"], mouse[\"Tumor Volume (mm3)\"] ,color=\"red\", label=\"Tumor Volume over time\" )\n",
    "plt.legend()\n",
    "plt.show()"
   ]
  },
  {
   "cell_type": "code",
   "execution_count": null,
   "metadata": {},
   "outputs": [],
   "source": [
    "# Generate a scatter plot of average tumor volume vs. mouse weight for the Capomulin regimen\n",
    "average_tumor_volume = capomulin_mouse.groupby(\"Mouse ID\").mean()\n",
    "average_tumor_volume\n",
    "\n",
    "x_axis = average_tumor_volume[\"Weight (g)\"]\n",
    "y_axis = average_tumor_volume[\"Tumor Volume (mm3)\"]\n",
    "\n",
    "plt.title(\"Weight versus Tumor Volume using Capomulin\")\n",
    "plt.xlabel(\"Weight (g)\")\n",
    "plt.ylabel(\"Tumor Volume (mm3)\")\n",
    "plt.ylim(30,50)\n",
    "plt.xlim(10,30)\n",
    "\n",
    "plt.scatter(x_axis, y_axis, marker=\"o\", facecolors=\"blue\", edgecolors=\"red\",  alpha=0.75, label=\"Weight versus Tumor Volume\")\n",
    "plt.legend()\n",
    "plt.plot()\n",
    "plt.show()"
   ]
  },
  {
   "cell_type": "markdown",
   "metadata": {},
   "source": [
    "## Correlation and Regression"
   ]
  },
  {
   "cell_type": "code",
   "execution_count": null,
   "metadata": {},
   "outputs": [],
   "source": [
    "# Calculate the correlation coefficient and linear regression model \n",
    "# for mouse weight and average tumor volume for the Capomulin regimen\n",
    "correlation = st.pearsonr(x_axis, y_axis)\n",
    "rounded_correlation = round(correlation[0],4)\n",
    "rounded_correlation\n",
    "print(f\"The correlation between weight and size is: {rounded_correlation}\")"
   ]
  },
  {
   "cell_type": "code",
   "execution_count": null,
   "metadata": {},
   "outputs": [],
   "source": [
    "# (slope, intercept, rvalue, pvalue, stderr) = linregress(x_axis, y_axis)\n",
    "# regress_values = x_axis * slope + intercept\n",
    "# line_equation = \"y = \" + str(round(slope,2)) + \"x + \" + str(round(intercept,2))\n",
    "# plt.title(\"Weight per Tumor Volume using Capomulin\")"
   ]
  },
  {
   "cell_type": "code",
   "execution_count": null,
   "metadata": {},
   "outputs": [],
   "source": [
    "x_values = clean_df[\"Weight (g)\"]\n",
    "y_values = clean_df[\"Tumor Volume (mm3)\"]\n",
    "\n",
    "(slope, intercept, rvalue, pvalue, stderr) = linregress(x_axis, y_axis)\n",
    "regress_values = x_axis * slope + intercept\n",
    "line_eq = \"y = \" + str(round(slope,2)) + \"x + \" + str(round(intercept,2))\n",
    "plt.title(\"Weight per Tumor Volume using Capomulin\")\n",
    "\n",
    "plt.annotate(line_eq,(20,34),fontsize=10,color=\"red\")\n",
    "plt.xlabel(\"Weight (g)\")\n",
    "plt.ylabel(\"Tumor Volume (mm3)\")\n",
    "plt.scatter(x_axis,y_axis)\n",
    "plt.plot(x_axis,regress_values,\"r-\")\n",
    "plt.ylim(30,50)\n",
    "plt.xlim(10,30)\n",
    "plt.show()"
   ]
  },
  {
   "cell_type": "code",
   "execution_count": null,
   "metadata": {},
   "outputs": [],
   "source": []
  },
  {
   "cell_type": "code",
   "execution_count": null,
   "metadata": {},
   "outputs": [],
   "source": []
  }
 ],
 "metadata": {
  "anaconda-cloud": {},
  "kernelspec": {
   "display_name": "Python 3",
   "language": "python",
   "name": "python3"
  },
  "language_info": {
   "codemirror_mode": {
    "name": "ipython",
    "version": 3
   },
   "file_extension": ".py",
   "mimetype": "text/x-python",
   "name": "python",
   "nbconvert_exporter": "python",
   "pygments_lexer": "ipython3",
   "version": "3.8.5"
  }
 },
 "nbformat": 4,
 "nbformat_minor": 4
}
